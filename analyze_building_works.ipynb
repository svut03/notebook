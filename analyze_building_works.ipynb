{
 "cells": [
  {
   "cell_type": "code",
   "execution_count": 1,
   "id": "71bc2400-62aa-4269-8584-35741ef4fd5a",
   "metadata": {},
   "outputs": [],
   "source": [
    "import numpy as np\n",
    "import pandas as pd"
   ]
  },
  {
   "cell_type": "code",
   "execution_count": 2,
   "id": "353c7a78-9b58-4d2c-9506-0e406184be6f",
   "metadata": {},
   "outputs": [],
   "source": [
    "df = pd.read_csv('brigades.csv', index_col='brigade_id')"
   ]
  },
  {
   "cell_type": "code",
   "execution_count": 17,
   "id": "cb7afd1b-2957-49bb-a9cd-76ee48c61ebf",
   "metadata": {},
   "outputs": [
    {
     "name": "stdout",
     "output_type": "stream",
     "text": [
      "Первые 5 строк таблицы:\n"
     ]
    },
    {
     "data": {
      "text/html": [
       "<div>\n",
       "<style scoped>\n",
       "    .dataframe tbody tr th:only-of-type {\n",
       "        vertical-align: middle;\n",
       "    }\n",
       "\n",
       "    .dataframe tbody tr th {\n",
       "        vertical-align: top;\n",
       "    }\n",
       "\n",
       "    .dataframe thead th {\n",
       "        text-align: right;\n",
       "    }\n",
       "</style>\n",
       "<table border=\"1\" class=\"dataframe\">\n",
       "  <thead>\n",
       "    <tr style=\"text-align: right;\">\n",
       "      <th></th>\n",
       "      <th>brigade_name</th>\n",
       "      <th>object_name</th>\n",
       "      <th>work_type</th>\n",
       "      <th>planned_hours</th>\n",
       "      <th>actual_hours</th>\n",
       "      <th>completed_date</th>\n",
       "      <th>efficienty</th>\n",
       "    </tr>\n",
       "    <tr>\n",
       "      <th>brigade_id</th>\n",
       "      <th></th>\n",
       "      <th></th>\n",
       "      <th></th>\n",
       "      <th></th>\n",
       "      <th></th>\n",
       "      <th></th>\n",
       "      <th></th>\n",
       "    </tr>\n",
       "  </thead>\n",
       "  <tbody>\n",
       "    <tr>\n",
       "      <th>1</th>\n",
       "      <td>Бригада №1</td>\n",
       "      <td>ЖК \"Солнечный\"</td>\n",
       "      <td>Кладка стен</td>\n",
       "      <td>120</td>\n",
       "      <td>115</td>\n",
       "      <td>2023-10-25</td>\n",
       "      <td>104.347826</td>\n",
       "    </tr>\n",
       "    <tr>\n",
       "      <th>2</th>\n",
       "      <td>Бригада №2</td>\n",
       "      <td>ЖК \"Солнечный\"</td>\n",
       "      <td>Монтаж перекрытий</td>\n",
       "      <td>80</td>\n",
       "      <td>92</td>\n",
       "      <td>2023-11-05</td>\n",
       "      <td>86.956522</td>\n",
       "    </tr>\n",
       "    <tr>\n",
       "      <th>3</th>\n",
       "      <td>Бригада №1</td>\n",
       "      <td>Школа №15</td>\n",
       "      <td>Отделочные работы</td>\n",
       "      <td>200</td>\n",
       "      <td>188</td>\n",
       "      <td>2023-09-15</td>\n",
       "      <td>106.382979</td>\n",
       "    </tr>\n",
       "    <tr>\n",
       "      <th>4</th>\n",
       "      <td>Бригада №3</td>\n",
       "      <td>Школа №15</td>\n",
       "      <td>Кровельные работы</td>\n",
       "      <td>90</td>\n",
       "      <td>90</td>\n",
       "      <td>2023-08-20</td>\n",
       "      <td>100.000000</td>\n",
       "    </tr>\n",
       "    <tr>\n",
       "      <th>5</th>\n",
       "      <td>Бригада №2</td>\n",
       "      <td>ТЦ \"Центральный\"</td>\n",
       "      <td>Фасадные работы</td>\n",
       "      <td>150</td>\n",
       "      <td>163</td>\n",
       "      <td>2023-12-10</td>\n",
       "      <td>92.024540</td>\n",
       "    </tr>\n",
       "  </tbody>\n",
       "</table>\n",
       "</div>"
      ],
      "text/plain": [
       "           brigade_name       object_name          work_type  planned_hours  \\\n",
       "brigade_id                                                                    \n",
       "1            Бригада №1    ЖК \"Солнечный\"        Кладка стен            120   \n",
       "2            Бригада №2    ЖК \"Солнечный\"  Монтаж перекрытий             80   \n",
       "3            Бригада №1         Школа №15  Отделочные работы            200   \n",
       "4            Бригада №3         Школа №15  Кровельные работы             90   \n",
       "5            Бригада №2  ТЦ \"Центральный\"    Фасадные работы            150   \n",
       "\n",
       "            actual_hours completed_date  efficienty  \n",
       "brigade_id                                           \n",
       "1                    115     2023-10-25  104.347826  \n",
       "2                     92     2023-11-05   86.956522  \n",
       "3                    188     2023-09-15  106.382979  \n",
       "4                     90     2023-08-20  100.000000  \n",
       "5                    163     2023-12-10   92.024540  "
      ]
     },
     "execution_count": 17,
     "metadata": {},
     "output_type": "execute_result"
    }
   ],
   "source": [
    "print(\"Первые 5 строк таблицы:\")\n",
    "df.head()"
   ]
  },
  {
   "cell_type": "code",
   "execution_count": 18,
   "id": "80f20567-5c6c-43b9-80e6-e600cb530941",
   "metadata": {},
   "outputs": [
    {
     "name": "stdout",
     "output_type": "stream",
     "text": [
      "Общая информация о таблице:\n",
      "<class 'pandas.core.frame.DataFrame'>\n",
      "Index: 6 entries, 1 to 6\n",
      "Data columns (total 7 columns):\n",
      " #   Column          Non-Null Count  Dtype  \n",
      "---  ------          --------------  -----  \n",
      " 0   brigade_name    6 non-null      object \n",
      " 1   object_name     6 non-null      object \n",
      " 2   work_type       6 non-null      object \n",
      " 3   planned_hours   6 non-null      int64  \n",
      " 4   actual_hours    6 non-null      int64  \n",
      " 5   completed_date  6 non-null      object \n",
      " 6   efficienty      6 non-null      float64\n",
      "dtypes: float64(1), int64(2), object(4)\n",
      "memory usage: 384.0+ bytes\n"
     ]
    }
   ],
   "source": [
    "print(\"Общая информация о таблице:\")\n",
    "df.info()"
   ]
  },
  {
   "cell_type": "code",
   "execution_count": 19,
   "id": "b9b17a26-5597-4ab1-8b32-449236b7c4d0",
   "metadata": {},
   "outputs": [
    {
     "name": "stdout",
     "output_type": "stream",
     "text": [
      "Основные статистические характеристики численных столбцов:\n"
     ]
    },
    {
     "data": {
      "text/html": [
       "<div>\n",
       "<style scoped>\n",
       "    .dataframe tbody tr th:only-of-type {\n",
       "        vertical-align: middle;\n",
       "    }\n",
       "\n",
       "    .dataframe tbody tr th {\n",
       "        vertical-align: top;\n",
       "    }\n",
       "\n",
       "    .dataframe thead th {\n",
       "        text-align: right;\n",
       "    }\n",
       "</style>\n",
       "<table border=\"1\" class=\"dataframe\">\n",
       "  <thead>\n",
       "    <tr style=\"text-align: right;\">\n",
       "      <th></th>\n",
       "      <th>planned_hours</th>\n",
       "      <th>actual_hours</th>\n",
       "      <th>efficienty</th>\n",
       "    </tr>\n",
       "  </thead>\n",
       "  <tbody>\n",
       "    <tr>\n",
       "      <th>count</th>\n",
       "      <td>6.000000</td>\n",
       "      <td>6.000000</td>\n",
       "      <td>6.000000</td>\n",
       "    </tr>\n",
       "    <tr>\n",
       "      <th>mean</th>\n",
       "      <td>136.666667</td>\n",
       "      <td>137.000000</td>\n",
       "      <td>98.860024</td>\n",
       "    </tr>\n",
       "    <tr>\n",
       "      <th>std</th>\n",
       "      <td>48.442406</td>\n",
       "      <td>43.275859</td>\n",
       "      <td>7.713360</td>\n",
       "    </tr>\n",
       "    <tr>\n",
       "      <th>min</th>\n",
       "      <td>80.000000</td>\n",
       "      <td>90.000000</td>\n",
       "      <td>86.956522</td>\n",
       "    </tr>\n",
       "    <tr>\n",
       "      <th>25%</th>\n",
       "      <td>97.500000</td>\n",
       "      <td>97.750000</td>\n",
       "      <td>94.018405</td>\n",
       "    </tr>\n",
       "    <tr>\n",
       "      <th>50%</th>\n",
       "      <td>135.000000</td>\n",
       "      <td>139.000000</td>\n",
       "      <td>101.724138</td>\n",
       "    </tr>\n",
       "    <tr>\n",
       "      <th>75%</th>\n",
       "      <td>172.500000</td>\n",
       "      <td>171.250000</td>\n",
       "      <td>104.122939</td>\n",
       "    </tr>\n",
       "    <tr>\n",
       "      <th>max</th>\n",
       "      <td>200.000000</td>\n",
       "      <td>188.000000</td>\n",
       "      <td>106.382979</td>\n",
       "    </tr>\n",
       "  </tbody>\n",
       "</table>\n",
       "</div>"
      ],
      "text/plain": [
       "       planned_hours  actual_hours  efficienty\n",
       "count       6.000000      6.000000    6.000000\n",
       "mean      136.666667    137.000000   98.860024\n",
       "std        48.442406     43.275859    7.713360\n",
       "min        80.000000     90.000000   86.956522\n",
       "25%        97.500000     97.750000   94.018405\n",
       "50%       135.000000    139.000000  101.724138\n",
       "75%       172.500000    171.250000  104.122939\n",
       "max       200.000000    188.000000  106.382979"
      ]
     },
     "execution_count": 19,
     "metadata": {},
     "output_type": "execute_result"
    }
   ],
   "source": [
    "print(\"Основные статистические характеристики численных столбцов:\")\n",
    "df.describe()"
   ]
  },
  {
   "cell_type": "code",
   "execution_count": 7,
   "id": "53c0eec4-4a76-473f-b018-82d9746d093e",
   "metadata": {},
   "outputs": [],
   "source": [
    "#Добавляем коллонку эффективность\n",
    "df['efficienty'] = df['planned_hours'] / df['actual_hours'] * 100"
   ]
  },
  {
   "cell_type": "code",
   "execution_count": 8,
   "id": "ca42f04c-5b67-40ea-8213-14941577b4c8",
   "metadata": {},
   "outputs": [
    {
     "name": "stdout",
     "output_type": "stream",
     "text": [
      "Самый эффективный вид работы - Отделочные работы\n"
     ]
    }
   ],
   "source": [
    "#Определяем самый эффективный вид работы\n",
    "print('Самый эффективный вид работы -', df.work_type[df['efficienty'] == df['efficienty'].max()].values[0])"
   ]
  },
  {
   "cell_type": "code",
   "execution_count": 10,
   "id": "05f0dfd9-a834-4ac5-9cb9-1f9baa5d3c87",
   "metadata": {},
   "outputs": [
    {
     "name": "stdout",
     "output_type": "stream",
     "text": [
      "Самая высокая средняя эффективность у бригады - Бригада №1\n"
     ]
    }
   ],
   "source": [
    "#Определяем самую эффективную бригаду\n",
    "print('Самая высокая средняя эффективность у бригады -', df.groupby('brigade_name')['efficienty'].mean().idxmax())"
   ]
  },
  {
   "cell_type": "code",
   "execution_count": 11,
   "id": "ae1e5f87-4016-4d21-81e1-3d2afda88bcd",
   "metadata": {},
   "outputs": [
    {
     "name": "stdout",
     "output_type": "stream",
     "text": [
      "Cамый проблемный объект(ы) по перерасходу времени - ЖК \"Солнечный\", ТЦ \"Центральный\"\n"
     ]
    }
   ],
   "source": [
    "#Определяем самый проблемный объект(ы) по перерасходу времени\n",
    "s = df.groupby('object_name')['planned_hours'].sum() - df.groupby('object_name')['actual_hours'].sum()\n",
    "txt = []\n",
    "\n",
    "for i in range(len(s)):\n",
    "    if s.iloc[i] == s.min():\n",
    "        txt.append(s.index[i])\n",
    "txt_pr = ', '.join(txt)        \n",
    "print('Cамый проблемный объект(ы) по перерасходу времени -', txt_pr)"
   ]
  }
 ],
 "metadata": {
  "kernelspec": {
   "display_name": "Python 3 (ipykernel)",
   "language": "python",
   "name": "python3"
  },
  "language_info": {
   "codemirror_mode": {
    "name": "ipython",
    "version": 3
   },
   "file_extension": ".py",
   "mimetype": "text/x-python",
   "name": "python",
   "nbconvert_exporter": "python",
   "pygments_lexer": "ipython3",
   "version": "3.13.5"
  }
 },
 "nbformat": 4,
 "nbformat_minor": 5
}
